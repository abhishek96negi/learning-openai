{
 "cells": [
  {
   "cell_type": "markdown",
   "id": "fa232138",
   "metadata": {},
   "source": [
    "![pull_request](../image/pull_request/pull_request1.png)"
   ]
  },
  {
   "cell_type": "markdown",
   "id": "2ce80ecb",
   "metadata": {},
   "source": [
    "I will show you step-by-step how to use GitHub actions and chat GPT to review PR(Pull Request) and add comments to the same PR raised by GPT.\n",
    "\n",
    "I will use **Python** as source codes so the first thing to do after creating a python project is to create a folder with a `.github` name inside this folder create a new folder called `workflows` inside this folder create a file called `pr.yml`.\n",
    "\n",
    "The structure should be like this :"
   ]
  },
  {
   "cell_type": "markdown",
   "id": "d9e98c74",
   "metadata": {},
   "source": [
    "![pull_request2](../image/pull_request/pull_request2.png)"
   ]
  },
  {
   "cell_type": "markdown",
   "id": "54248dcf",
   "metadata": {},
   "source": [
    "Inside `pr.yml` let's add instructions to the GitHub action to do a code review with GPT help."
   ]
  },
  {
   "cell_type": "raw",
   "id": "90c8d16a",
   "metadata": {},
   "source": [
    "name: Code Review\n",
    "\n",
    "permissions:\n",
    "  contents: read\n",
    "  pull-requests: write\n",
    "\n",
    "on:\n",
    "  pull_request:\n",
    "    types: [opened, reopened, synchronize]\n",
    "\n",
    "jobs:\n",
    "  GPT-CODE-REVIEW:\n",
    "    runs-on: ubuntu-latest\n",
    "    steps:\n",
    "      - uses: anc95/ChatGPT-CodeReview@main\n",
    "        env:\n",
    "          GITHUB_TOKEN: ${{ secrets.GITHUB_TOKEN }}\n",
    "          OPENAI_API_KEY: ${{ secrets.OPENAI_API_KEY }}"
   ]
  },
  {
   "cell_type": "markdown",
   "id": "5a7f10bb",
   "metadata": {},
   "source": [
    "The above script is all about giving read-content & write permission to all plug-ins within this script context to read PR and make the required code review.\n",
    "\n",
    "After it specifies all types of actions required to trigger this script to do code review, actions are [PR opened, PR reopened, PR synchronized].\n",
    "\n",
    "The last part will be the job itself here I'm using [anc95/ChatGPT-CodeReview@main](https://github.com/anc95/ChatGPT-CodeReview) the is responsible to do the hard part.\n",
    "\n",
    "First, we need to pass GITHUB_TOKEN to the plug-in to access the pull request and read the required code, and do require writing to the PR.\n",
    "\n",
    "Second, we need to pass OPENAI_API_KEY to call the required open AI API to do a code review for PR, and if any concerns on the PR [anc95/ChatGPT-CodeReview@main](https://github.com/anc95/ChatGPT-CodeReview) will raise a comment on the PR with GPT result."
   ]
  },
  {
   "cell_type": "markdown",
   "id": "b8957f45",
   "metadata": {},
   "source": [
    "## How to get the OPENAI_API_KEY key ??"
   ]
  },
  {
   "cell_type": "markdown",
   "id": "4286e6d1",
   "metadata": {},
   "source": [
    "From [OpenAI Platform](https://platform.openai.com/)  home page :\n",
    "\n",
    "* **1- Click on personal & select View API Keys.**\n",
    "\n",
    "* **2- You will be landed on the keys page you can create a new key if you don't have one.**\n",
    "\n",
    "Note: In order for the API key to work as should, you need to make sure billing is configured before.\n",
    "\n",
    "you can access this here: [OpenAI Platform](https://platform.openai.com/account/billing/overview) ."
   ]
  },
  {
   "cell_type": "markdown",
   "id": "90e3eeba",
   "metadata": {},
   "source": [
    "![pull_request3](../image/pull_request/pull_request3.png)"
   ]
  },
  {
   "cell_type": "markdown",
   "id": "52f73156",
   "metadata": {},
   "source": [
    "After that go to your repo:-  /settings/secrets/actions and add a new **secret key** as below image showing :"
   ]
  },
  {
   "cell_type": "markdown",
   "id": "2051497b",
   "metadata": {},
   "source": [
    "![pull_request4](../image/pull_request/pull_request4.png)"
   ]
  },
  {
   "cell_type": "markdown",
   "id": "6d8e8275",
   "metadata": {},
   "source": [
    "https://github.com/USER_NAME/REPO_NAME/settings/secrets/actions\n",
    "\n",
    "Ok, that is it :) as simple as that now push `pr.yml` to the main branch and create a new branch called `feature/f1`\n",
    "\n",
    "**For Example**:\n",
    "\n",
    "And push this code:"
   ]
  },
  {
   "cell_type": "code",
   "execution_count": 1,
   "id": "67d7ef50",
   "metadata": {},
   "outputs": [],
   "source": [
    "# write a s3 bucket configuration\n",
    "import boto3\n",
    "import openai\n",
    "import os\n",
    "import pandas\n",
    "\n",
    "# write a s3 bucket configuration code\n",
    "s3 = boto3.client(\"s3\")\n",
    "\n",
    "\n",
    "# write a function create a bucket\n",
    "def create_bucket(bucket_name):\n",
    "    s3.create_bucket(Bucket=bucket_name)\n",
    "    return bucket_name\n",
    "\n",
    "\n",
    "# write a function upload a file\n",
    "def upload_file(bucket_name, file_name):\n",
    "    s3.upload_file(file_name, bucket_name, file_name)\n",
    "    return file_name\n",
    "\n",
    "\n",
    "# write a function to list all the buckets\n",
    "def list_buckets():\n",
    "    response = s3.list_buckets()\n",
    "    buckets = [bucket[\"Name\"] for bucket in response[\"Buckets\"]]\n",
    "    print(\"Bucket List: %s\" % buckets)\n",
    "    return buckets\n",
    "\n",
    "\n",
    "# write a function to delete a bucket\n",
    "def delete_bucket(bucket_name):\n",
    "    s3.delete_bucket(Bucket=bucket_name)\n",
    "    return bucket_name\n",
    "\n",
    "\n",
    "# write a function to delete a file\n",
    "def delete_file(bucket_name, file_name):\n",
    "    s3.delete_object(Bucket=bucket_name, Key=file_name)\n",
    "    return file_name\n",
    "\n",
    "\n",
    "# write a function to list all the files\n",
    "def list_files(bucket_name):\n",
    "    response = s3.list_objects_v2(Bucket=bucket_name)\n",
    "    print(response)\n",
    "    for content in response[\"Contents\"]:\n",
    "        print(content[\"Key\"])\n",
    "        return content[\"Key\"]\n",
    "\n",
    "    return response\n",
    "\n",
    "\n",
    "# write a function to download a file\n",
    "def download_file(bucket_name, file_name):\n",
    "    s3.download_file(bucket_name, file_name, file_name)\n",
    "    return file_name\n",
    "\n",
    "\n",
    "# write a function to copy a file\n",
    "def copy_file(bucket_name, file_name):\n",
    "    s3.copy_object(Bucket=bucket_name, Key=file_name, CopySource=bucket_name + \"/\" + file_name)\n",
    "    return file_name\n"
   ]
  },
  {
   "cell_type": "markdown",
   "id": "dfaf3fb2",
   "metadata": {},
   "source": [
    "And from pull requests in the repo: - **raise a PR to the main branch :**\n",
    "\n",
    "**Code review action is triggered directly once PR is created.**\n",
    "\n",
    "**Code review action with GPT help :**"
   ]
  },
  {
   "cell_type": "markdown",
   "id": "ac046c36",
   "metadata": {},
   "source": [
    "![pull_request5](../image/pull_request/pull_request5.png)"
   ]
  },
  {
   "cell_type": "markdown",
   "id": "e6bdd46f",
   "metadata": {},
   "source": [
    "**Reviewing the code .....**\n",
    "\n",
    "**GPT Review finished and comments are raised :**"
   ]
  },
  {
   "cell_type": "markdown",
   "id": "bdb6067e",
   "metadata": {},
   "source": [
    "![pull_request6](../image/pull_request/pull_request6.png)"
   ]
  },
  {
   "cell_type": "markdown",
   "id": "cf54031d",
   "metadata": {},
   "source": [
    "**Code review Result**\n",
    "\n",
    "[Github Link](https://github.com/abhishek96negi/review-pr-openai)"
   ]
  }
 ],
 "metadata": {
  "kernelspec": {
   "display_name": "Python 3 (ipykernel)",
   "language": "python",
   "name": "python3"
  },
  "language_info": {
   "codemirror_mode": {
    "name": "ipython",
    "version": 3
   },
   "file_extension": ".py",
   "mimetype": "text/x-python",
   "name": "python",
   "nbconvert_exporter": "python",
   "pygments_lexer": "ipython3",
   "version": "3.10.11"
  }
 },
 "nbformat": 4,
 "nbformat_minor": 5
}
